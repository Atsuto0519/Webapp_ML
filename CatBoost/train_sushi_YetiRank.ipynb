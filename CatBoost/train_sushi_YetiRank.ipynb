{
 "cells": [
  {
   "cell_type": "code",
   "execution_count": 49,
   "metadata": {},
   "outputs": [],
   "source": [
    "import pickle\n",
    "import collections\n",
    "import numpy as np\n",
    "import pandas as pd\n",
    "from catboost import *\n",
    "from sklearn.model_selection import train_test_split"
   ]
  },
  {
   "cell_type": "code",
   "execution_count": 132,
   "metadata": {},
   "outputs": [],
   "source": [
    "train_path = \"./data/sushi3-2016/train.csv\"\n",
    "model_path = \"./model.pkl\"\n",
    "\n",
    "df = pd.read_table(train_path,sep=' ',header=None)\n",
    "df = df.rename(columns={0: 'user_id', 19: 'score'})\n",
    "\n",
    "# train_df,test_df = train_test_split(df)\n",
    "\n",
    "# テストデータには，最後のuser_idの人のみを使用．\n",
    "train_df = df[0:len(df)-100]\n",
    "test_df = df[len(df)-100:len(df)]"
   ]
  },
  {
   "cell_type": "code",
   "execution_count": 133,
   "metadata": {},
   "outputs": [],
   "source": [
    "train_df = train_df.sort_values(['user_id'])\n",
    "test_df  = test_df.sort_values(['user_id'])"
   ]
  },
  {
   "cell_type": "code",
   "execution_count": 134,
   "metadata": {},
   "outputs": [],
   "source": [
    "cat_features = list(range(12))\n",
    "\n",
    "train_data = train_df.drop([\"user_id\", \"score\"], axis=1)\n",
    "train_label = train_df[\"score\"]\n",
    "train_group_id = train_df[\"user_id\"]\n",
    "train_pool = Pool(data=train_data, label=train_label, group_id=train_group_id, cat_features=cat_features)\n",
    "\n",
    "test_data = test_df.drop([\"user_id\", \"score\"], axis=1)\n",
    "test_label = test_df[\"score\"]\n",
    "test_group_id = test_df[\"user_id\"]\n",
    "test_pool = Pool(data=test_data, label=test_label, group_id=test_group_id, cat_features=cat_features)"
   ]
  },
  {
   "cell_type": "code",
   "execution_count": 117,
   "metadata": {},
   "outputs": [
    {
     "name": "stdout",
     "output_type": "stream",
     "text": [
      "0:\ttest: -130.1421154\tbest: -130.1421154 (0)\ttotal: 97.1ms\tremaining: 19.3s\n",
      "1:\ttest: -128.3603277\tbest: -128.3603277 (1)\ttotal: 201ms\tremaining: 19.9s\n",
      "2:\ttest: -128.3603277\tbest: -128.3603277 (1)\ttotal: 304ms\tremaining: 19.9s\n",
      "3:\ttest: -140.5010671\tbest: -128.3603277 (1)\ttotal: 397ms\tremaining: 19.4s\n",
      "4:\ttest: -127.8379626\tbest: -127.8379626 (4)\ttotal: 484ms\tremaining: 18.9s\n",
      "5:\ttest: -127.8379626\tbest: -127.8379626 (4)\ttotal: 586ms\tremaining: 18.9s\n",
      "6:\ttest: -127.8379626\tbest: -127.8379626 (4)\ttotal: 668ms\tremaining: 18.4s\n",
      "7:\ttest: -127.8379626\tbest: -127.8379626 (4)\ttotal: 761ms\tremaining: 18.3s\n",
      "8:\ttest: -127.8379626\tbest: -127.8379626 (4)\ttotal: 852ms\tremaining: 18.1s\n",
      "9:\ttest: -127.8379626\tbest: -127.8379626 (4)\ttotal: 944ms\tremaining: 17.9s\n",
      "10:\ttest: -127.8813126\tbest: -127.8379626 (4)\ttotal: 1.04s\tremaining: 17.9s\n",
      "11:\ttest: -127.3245838\tbest: -127.3245838 (11)\ttotal: 1.14s\tremaining: 17.9s\n",
      "12:\ttest: -127.3245838\tbest: -127.3245838 (11)\ttotal: 1.23s\tremaining: 17.7s\n",
      "13:\ttest: -127.5196588\tbest: -127.3245838 (11)\ttotal: 1.31s\tremaining: 17.5s\n",
      "14:\ttest: -127.3317366\tbest: -127.3245838 (11)\ttotal: 1.4s\tremaining: 17.3s\n",
      "15:\ttest: -127.3317366\tbest: -127.3245838 (11)\ttotal: 1.49s\tremaining: 17.2s\n",
      "16:\ttest: -127.3317366\tbest: -127.3245838 (11)\ttotal: 1.58s\tremaining: 17s\n",
      "17:\ttest: -127.1366616\tbest: -127.1366616 (17)\ttotal: 1.67s\tremaining: 16.9s\n",
      "18:\ttest: -127.1366616\tbest: -127.1366616 (17)\ttotal: 1.75s\tremaining: 16.7s\n",
      "19:\ttest: -127.1366616\tbest: -127.1366616 (17)\ttotal: 1.84s\tremaining: 16.5s\n",
      "20:\ttest: -127.1366616\tbest: -127.1366616 (17)\ttotal: 1.93s\tremaining: 16.5s\n",
      "21:\ttest: -127.1366616\tbest: -127.1366616 (17)\ttotal: 2.02s\tremaining: 16.4s\n",
      "22:\ttest: -127.1366616\tbest: -127.1366616 (17)\ttotal: 2.11s\tremaining: 16.2s\n",
      "23:\ttest: -127.1366616\tbest: -127.1366616 (17)\ttotal: 2.2s\tremaining: 16.2s\n",
      "24:\ttest: -127.3245838\tbest: -127.1366616 (17)\ttotal: 2.29s\tremaining: 16s\n",
      "25:\ttest: -127.3545838\tbest: -127.1366616 (17)\ttotal: 2.39s\tremaining: 16s\n",
      "26:\ttest: -127.3545838\tbest: -127.1366616 (17)\ttotal: 2.49s\tremaining: 15.9s\n",
      "27:\ttest: -127.3545838\tbest: -127.1366616 (17)\ttotal: 2.58s\tremaining: 15.9s\n",
      "28:\ttest: -127.3545838\tbest: -127.1366616 (17)\ttotal: 2.67s\tremaining: 15.8s\n",
      "29:\ttest: -127.3545838\tbest: -127.1366616 (17)\ttotal: 2.76s\tremaining: 15.6s\n",
      "30:\ttest: -127.8936858\tbest: -127.1366616 (17)\ttotal: 2.85s\tremaining: 15.5s\n",
      "31:\ttest: -127.8936858\tbest: -127.1366616 (17)\ttotal: 2.94s\tremaining: 15.4s\n",
      "32:\ttest: -127.8936858\tbest: -127.1366616 (17)\ttotal: 3.04s\tremaining: 15.4s\n",
      "33:\ttest: -127.8936858\tbest: -127.1366616 (17)\ttotal: 3.13s\tremaining: 15.3s\n",
      "34:\ttest: -127.8936858\tbest: -127.1366616 (17)\ttotal: 3.22s\tremaining: 15.2s\n",
      "35:\ttest: -127.8936858\tbest: -127.1366616 (17)\ttotal: 3.31s\tremaining: 15.1s\n",
      "36:\ttest: -127.8936858\tbest: -127.1366616 (17)\ttotal: 3.4s\tremaining: 15s\n",
      "37:\ttest: -127.8936858\tbest: -127.1366616 (17)\ttotal: 3.49s\tremaining: 14.9s\n",
      "38:\ttest: -127.8936858\tbest: -127.1366616 (17)\ttotal: 3.59s\tremaining: 14.8s\n",
      "39:\ttest: -127.8936858\tbest: -127.1366616 (17)\ttotal: 3.67s\tremaining: 14.7s\n",
      "40:\ttest: -127.8936858\tbest: -127.1366616 (17)\ttotal: 3.75s\tremaining: 14.6s\n",
      "41:\ttest: -127.8936858\tbest: -127.1366616 (17)\ttotal: 3.84s\tremaining: 14.5s\n",
      "42:\ttest: -127.8936858\tbest: -127.1366616 (17)\ttotal: 3.93s\tremaining: 14.3s\n",
      "43:\ttest: -127.8936858\tbest: -127.1366616 (17)\ttotal: 4.01s\tremaining: 14.2s\n",
      "44:\ttest: -127.8936858\tbest: -127.1366616 (17)\ttotal: 4.1s\tremaining: 14.1s\n",
      "45:\ttest: -127.8936858\tbest: -127.1366616 (17)\ttotal: 4.18s\tremaining: 14s\n",
      "46:\ttest: -127.8936858\tbest: -127.1366616 (17)\ttotal: 4.27s\tremaining: 13.9s\n",
      "47:\ttest: -127.8936858\tbest: -127.1366616 (17)\ttotal: 4.37s\tremaining: 13.8s\n",
      "48:\ttest: -127.8936858\tbest: -127.1366616 (17)\ttotal: 4.45s\tremaining: 13.7s\n",
      "49:\ttest: -127.8936858\tbest: -127.1366616 (17)\ttotal: 4.53s\tremaining: 13.6s\n",
      "50:\ttest: -127.8936858\tbest: -127.1366616 (17)\ttotal: 4.62s\tremaining: 13.5s\n",
      "51:\ttest: -127.8936858\tbest: -127.1366616 (17)\ttotal: 4.7s\tremaining: 13.4s\n",
      "52:\ttest: -127.8936858\tbest: -127.1366616 (17)\ttotal: 4.78s\tremaining: 13.3s\n",
      "53:\ttest: -127.8936858\tbest: -127.1366616 (17)\ttotal: 4.87s\tremaining: 13.2s\n",
      "54:\ttest: -127.8936858\tbest: -127.1366616 (17)\ttotal: 4.96s\tremaining: 13.1s\n",
      "55:\ttest: -127.8936858\tbest: -127.1366616 (17)\ttotal: 5.04s\tremaining: 13s\n",
      "56:\ttest: -127.8936858\tbest: -127.1366616 (17)\ttotal: 5.14s\tremaining: 12.9s\n",
      "57:\ttest: -127.8936858\tbest: -127.1366616 (17)\ttotal: 5.22s\tremaining: 12.8s\n",
      "58:\ttest: -127.8936858\tbest: -127.1366616 (17)\ttotal: 5.32s\tremaining: 12.7s\n",
      "59:\ttest: -127.8936858\tbest: -127.1366616 (17)\ttotal: 5.42s\tremaining: 12.7s\n",
      "60:\ttest: -127.8936858\tbest: -127.1366616 (17)\ttotal: 5.52s\tremaining: 12.6s\n",
      "61:\ttest: -127.8936858\tbest: -127.1366616 (17)\ttotal: 5.61s\tremaining: 12.5s\n",
      "62:\ttest: -127.8936858\tbest: -127.1366616 (17)\ttotal: 5.7s\tremaining: 12.4s\n",
      "63:\ttest: -127.8936858\tbest: -127.1366616 (17)\ttotal: 5.8s\tremaining: 12.3s\n",
      "64:\ttest: -127.8936858\tbest: -127.1366616 (17)\ttotal: 5.89s\tremaining: 12.2s\n",
      "65:\ttest: -127.8936858\tbest: -127.1366616 (17)\ttotal: 6.03s\tremaining: 12.2s\n",
      "66:\ttest: -127.8936858\tbest: -127.1366616 (17)\ttotal: 6.12s\tremaining: 12.2s\n",
      "67:\ttest: -127.8936858\tbest: -127.1366616 (17)\ttotal: 6.21s\tremaining: 12.1s\n",
      "68:\ttest: -127.8936858\tbest: -127.1366616 (17)\ttotal: 6.31s\tremaining: 12s\n",
      "69:\ttest: -127.8936858\tbest: -127.1366616 (17)\ttotal: 6.41s\tremaining: 11.9s\n",
      "70:\ttest: -127.8936858\tbest: -127.1366616 (17)\ttotal: 6.49s\tremaining: 11.8s\n",
      "71:\ttest: -127.8936858\tbest: -127.1366616 (17)\ttotal: 6.59s\tremaining: 11.7s\n",
      "72:\ttest: -127.8936858\tbest: -127.1366616 (17)\ttotal: 6.67s\tremaining: 11.6s\n",
      "73:\ttest: -127.2827036\tbest: -127.1366616 (17)\ttotal: 6.76s\tremaining: 11.5s\n",
      "74:\ttest: -127.2827036\tbest: -127.1366616 (17)\ttotal: 6.87s\tremaining: 11.4s\n",
      "75:\ttest: -127.2827036\tbest: -127.1366616 (17)\ttotal: 6.96s\tremaining: 11.4s\n",
      "76:\ttest: -127.8936858\tbest: -127.1366616 (17)\ttotal: 7.07s\tremaining: 11.3s\n",
      "77:\ttest: -127.8936858\tbest: -127.1366616 (17)\ttotal: 7.17s\tremaining: 11.2s\n",
      "78:\ttest: -127.8936858\tbest: -127.1366616 (17)\ttotal: 7.27s\tremaining: 11.1s\n",
      "79:\ttest: -127.8936858\tbest: -127.1366616 (17)\ttotal: 7.37s\tremaining: 11s\n",
      "80:\ttest: -127.8936858\tbest: -127.1366616 (17)\ttotal: 7.46s\tremaining: 11s\n",
      "81:\ttest: -127.8936858\tbest: -127.1366616 (17)\ttotal: 7.54s\tremaining: 10.8s\n",
      "82:\ttest: -127.8936858\tbest: -127.1366616 (17)\ttotal: 7.63s\tremaining: 10.8s\n",
      "83:\ttest: -127.8936858\tbest: -127.1366616 (17)\ttotal: 7.71s\tremaining: 10.7s\n",
      "84:\ttest: -127.8936858\tbest: -127.1366616 (17)\ttotal: 7.8s\tremaining: 10.6s\n",
      "85:\ttest: -127.8936858\tbest: -127.1366616 (17)\ttotal: 7.9s\tremaining: 10.5s\n",
      "86:\ttest: -127.8936858\tbest: -127.1366616 (17)\ttotal: 7.99s\tremaining: 10.4s\n",
      "87:\ttest: -127.8936858\tbest: -127.1366616 (17)\ttotal: 8.08s\tremaining: 10.3s\n",
      "88:\ttest: -127.8936858\tbest: -127.1366616 (17)\ttotal: 8.18s\tremaining: 10.2s\n",
      "89:\ttest: -127.8936858\tbest: -127.1366616 (17)\ttotal: 8.27s\tremaining: 10.1s\n",
      "90:\ttest: -127.8936858\tbest: -127.1366616 (17)\ttotal: 8.36s\tremaining: 10s\n",
      "91:\ttest: -127.8636858\tbest: -127.1366616 (17)\ttotal: 8.47s\tremaining: 9.95s\n",
      "92:\ttest: -127.8636858\tbest: -127.1366616 (17)\ttotal: 8.56s\tremaining: 9.85s\n",
      "93:\ttest: -127.8636858\tbest: -127.1366616 (17)\ttotal: 8.64s\tremaining: 9.75s\n",
      "94:\ttest: -127.8636858\tbest: -127.1366616 (17)\ttotal: 8.74s\tremaining: 9.66s\n",
      "95:\ttest: -127.8636858\tbest: -127.1366616 (17)\ttotal: 8.82s\tremaining: 9.55s\n",
      "96:\ttest: -127.8636858\tbest: -127.1366616 (17)\ttotal: 8.92s\tremaining: 9.47s\n",
      "97:\ttest: -127.8636858\tbest: -127.1366616 (17)\ttotal: 9.01s\tremaining: 9.38s\n",
      "98:\ttest: -127.8636858\tbest: -127.1366616 (17)\ttotal: 9.11s\tremaining: 9.29s\n",
      "99:\ttest: -127.8636858\tbest: -127.1366616 (17)\ttotal: 9.21s\tremaining: 9.21s\n",
      "100:\ttest: -127.8636858\tbest: -127.1366616 (17)\ttotal: 9.3s\tremaining: 9.12s\n",
      "101:\ttest: -127.8636858\tbest: -127.1366616 (17)\ttotal: 9.39s\tremaining: 9.02s\n",
      "102:\ttest: -127.8636858\tbest: -127.1366616 (17)\ttotal: 9.49s\tremaining: 8.94s\n",
      "103:\ttest: -127.8636858\tbest: -127.1366616 (17)\ttotal: 9.58s\tremaining: 8.84s\n",
      "104:\ttest: -127.8636858\tbest: -127.1366616 (17)\ttotal: 9.68s\tremaining: 8.75s\n",
      "105:\ttest: -127.8636858\tbest: -127.1366616 (17)\ttotal: 9.76s\tremaining: 8.66s\n",
      "106:\ttest: -127.8636858\tbest: -127.1366616 (17)\ttotal: 9.86s\tremaining: 8.57s\n",
      "107:\ttest: -127.8636858\tbest: -127.1366616 (17)\ttotal: 9.95s\tremaining: 8.47s\n",
      "108:\ttest: -127.8636858\tbest: -127.1366616 (17)\ttotal: 10s\tremaining: 8.38s\n"
     ]
    },
    {
     "name": "stdout",
     "output_type": "stream",
     "text": [
      "109:\ttest: -127.8636858\tbest: -127.1366616 (17)\ttotal: 10.1s\tremaining: 8.29s\n",
      "110:\ttest: -127.8636858\tbest: -127.1366616 (17)\ttotal: 10.2s\tremaining: 8.2s\n",
      "111:\ttest: -127.8636858\tbest: -127.1366616 (17)\ttotal: 10.3s\tremaining: 8.11s\n",
      "112:\ttest: -127.8636858\tbest: -127.1366616 (17)\ttotal: 10.4s\tremaining: 8.02s\n",
      "113:\ttest: -127.8636858\tbest: -127.1366616 (17)\ttotal: 10.5s\tremaining: 7.93s\n",
      "114:\ttest: -127.8636858\tbest: -127.1366616 (17)\ttotal: 10.6s\tremaining: 7.83s\n",
      "115:\ttest: -127.8636858\tbest: -127.1366616 (17)\ttotal: 10.7s\tremaining: 7.75s\n",
      "116:\ttest: -127.8636858\tbest: -127.1366616 (17)\ttotal: 10.8s\tremaining: 7.65s\n",
      "117:\ttest: -127.8636858\tbest: -127.1366616 (17)\ttotal: 10.9s\tremaining: 7.56s\n",
      "118:\ttest: -127.8636858\tbest: -127.1366616 (17)\ttotal: 11s\tremaining: 7.48s\n",
      "119:\ttest: -127.8636858\tbest: -127.1366616 (17)\ttotal: 11.1s\tremaining: 7.39s\n",
      "120:\ttest: -127.8636858\tbest: -127.1366616 (17)\ttotal: 11.2s\tremaining: 7.29s\n",
      "121:\ttest: -127.8636858\tbest: -127.1366616 (17)\ttotal: 11.3s\tremaining: 7.2s\n",
      "122:\ttest: -127.8636858\tbest: -127.1366616 (17)\ttotal: 11.4s\tremaining: 7.11s\n",
      "123:\ttest: -127.8636858\tbest: -127.1366616 (17)\ttotal: 11.4s\tremaining: 7.01s\n",
      "124:\ttest: -127.8636858\tbest: -127.1366616 (17)\ttotal: 11.5s\tremaining: 6.92s\n",
      "125:\ttest: -127.8636858\tbest: -127.1366616 (17)\ttotal: 11.6s\tremaining: 6.83s\n",
      "126:\ttest: -127.8636858\tbest: -127.1366616 (17)\ttotal: 11.7s\tremaining: 6.73s\n",
      "127:\ttest: -127.8636858\tbest: -127.1366616 (17)\ttotal: 11.8s\tremaining: 6.64s\n",
      "128:\ttest: -127.8636858\tbest: -127.1366616 (17)\ttotal: 11.9s\tremaining: 6.54s\n",
      "129:\ttest: -127.8636858\tbest: -127.1366616 (17)\ttotal: 12s\tremaining: 6.45s\n",
      "130:\ttest: -127.8636858\tbest: -127.1366616 (17)\ttotal: 12.1s\tremaining: 6.36s\n",
      "131:\ttest: -127.8636858\tbest: -127.1366616 (17)\ttotal: 12.2s\tremaining: 6.27s\n",
      "132:\ttest: -127.2527036\tbest: -127.1366616 (17)\ttotal: 12.3s\tremaining: 6.17s\n",
      "133:\ttest: -127.2527036\tbest: -127.1366616 (17)\ttotal: 12.4s\tremaining: 6.09s\n",
      "134:\ttest: -127.2527036\tbest: -127.1366616 (17)\ttotal: 12.5s\tremaining: 6s\n",
      "135:\ttest: -127.2527036\tbest: -127.1366616 (17)\ttotal: 12.6s\tremaining: 5.91s\n",
      "136:\ttest: -127.2527036\tbest: -127.1366616 (17)\ttotal: 12.7s\tremaining: 5.82s\n",
      "137:\ttest: -127.2527036\tbest: -127.1366616 (17)\ttotal: 12.8s\tremaining: 5.73s\n",
      "138:\ttest: -127.2527036\tbest: -127.1366616 (17)\ttotal: 12.9s\tremaining: 5.64s\n",
      "139:\ttest: -127.2527036\tbest: -127.1366616 (17)\ttotal: 12.9s\tremaining: 5.55s\n",
      "140:\ttest: -127.2527036\tbest: -127.1366616 (17)\ttotal: 13s\tremaining: 5.45s\n",
      "141:\ttest: -127.2527036\tbest: -127.1366616 (17)\ttotal: 13.1s\tremaining: 5.36s\n",
      "142:\ttest: -127.2527036\tbest: -127.1366616 (17)\ttotal: 13.2s\tremaining: 5.27s\n",
      "143:\ttest: -127.2527036\tbest: -127.1366616 (17)\ttotal: 13.3s\tremaining: 5.18s\n",
      "144:\ttest: -127.2527036\tbest: -127.1366616 (17)\ttotal: 13.4s\tremaining: 5.09s\n",
      "145:\ttest: -127.2527036\tbest: -127.1366616 (17)\ttotal: 13.5s\tremaining: 4.99s\n",
      "146:\ttest: -127.2527036\tbest: -127.1366616 (17)\ttotal: 13.6s\tremaining: 4.9s\n",
      "147:\ttest: -127.2527036\tbest: -127.1366616 (17)\ttotal: 13.7s\tremaining: 4.8s\n",
      "148:\ttest: -127.2527036\tbest: -127.1366616 (17)\ttotal: 13.8s\tremaining: 4.71s\n",
      "149:\ttest: -127.2527036\tbest: -127.1366616 (17)\ttotal: 13.9s\tremaining: 4.62s\n",
      "150:\ttest: -127.2527036\tbest: -127.1366616 (17)\ttotal: 14s\tremaining: 4.53s\n",
      "151:\ttest: -127.2527036\tbest: -127.1366616 (17)\ttotal: 14.1s\tremaining: 4.44s\n",
      "152:\ttest: -127.2527036\tbest: -127.1366616 (17)\ttotal: 14.2s\tremaining: 4.35s\n",
      "153:\ttest: -127.2527036\tbest: -127.1366616 (17)\ttotal: 14.3s\tremaining: 4.26s\n",
      "154:\ttest: -127.2527036\tbest: -127.1366616 (17)\ttotal: 14.4s\tremaining: 4.17s\n",
      "155:\ttest: -127.2527036\tbest: -127.1366616 (17)\ttotal: 14.4s\tremaining: 4.07s\n",
      "156:\ttest: -127.2527036\tbest: -127.1366616 (17)\ttotal: 14.5s\tremaining: 3.98s\n",
      "157:\ttest: -127.2527036\tbest: -127.1366616 (17)\ttotal: 14.6s\tremaining: 3.89s\n",
      "158:\ttest: -127.2527036\tbest: -127.1366616 (17)\ttotal: 14.7s\tremaining: 3.79s\n",
      "159:\ttest: -127.2527036\tbest: -127.1366616 (17)\ttotal: 14.8s\tremaining: 3.7s\n",
      "160:\ttest: -127.2527036\tbest: -127.1366616 (17)\ttotal: 14.9s\tremaining: 3.61s\n",
      "161:\ttest: -127.2527036\tbest: -127.1366616 (17)\ttotal: 15s\tremaining: 3.51s\n",
      "162:\ttest: -127.2527036\tbest: -127.1366616 (17)\ttotal: 15.1s\tremaining: 3.42s\n",
      "163:\ttest: -127.2527036\tbest: -127.1366616 (17)\ttotal: 15.2s\tremaining: 3.33s\n",
      "164:\ttest: -127.2527036\tbest: -127.1366616 (17)\ttotal: 15.3s\tremaining: 3.24s\n",
      "165:\ttest: -127.2527036\tbest: -127.1366616 (17)\ttotal: 15.4s\tremaining: 3.15s\n",
      "166:\ttest: -127.2527036\tbest: -127.1366616 (17)\ttotal: 15.5s\tremaining: 3.05s\n",
      "167:\ttest: -127.2527036\tbest: -127.1366616 (17)\ttotal: 15.6s\tremaining: 2.96s\n",
      "168:\ttest: -127.2527036\tbest: -127.1366616 (17)\ttotal: 15.7s\tremaining: 2.87s\n",
      "169:\ttest: -127.2527036\tbest: -127.1366616 (17)\ttotal: 15.7s\tremaining: 2.78s\n",
      "170:\ttest: -127.2527036\tbest: -127.1366616 (17)\ttotal: 15.8s\tremaining: 2.69s\n",
      "171:\ttest: -127.2527036\tbest: -127.1366616 (17)\ttotal: 15.9s\tremaining: 2.59s\n",
      "172:\ttest: -127.2527036\tbest: -127.1366616 (17)\ttotal: 16s\tremaining: 2.5s\n",
      "173:\ttest: -127.2527036\tbest: -127.1366616 (17)\ttotal: 16.1s\tremaining: 2.41s\n",
      "174:\ttest: -127.2527036\tbest: -127.1366616 (17)\ttotal: 16.2s\tremaining: 2.32s\n",
      "175:\ttest: -127.2527036\tbest: -127.1366616 (17)\ttotal: 16.3s\tremaining: 2.23s\n",
      "176:\ttest: -127.2527036\tbest: -127.1366616 (17)\ttotal: 16.4s\tremaining: 2.13s\n",
      "177:\ttest: -127.2527036\tbest: -127.1366616 (17)\ttotal: 16.5s\tremaining: 2.04s\n",
      "178:\ttest: -127.2527036\tbest: -127.1366616 (17)\ttotal: 16.6s\tremaining: 1.95s\n",
      "179:\ttest: -127.2527036\tbest: -127.1366616 (17)\ttotal: 16.7s\tremaining: 1.86s\n",
      "180:\ttest: -127.2527036\tbest: -127.1366616 (17)\ttotal: 16.8s\tremaining: 1.76s\n",
      "181:\ttest: -127.2527036\tbest: -127.1366616 (17)\ttotal: 16.9s\tremaining: 1.67s\n",
      "182:\ttest: -127.2527036\tbest: -127.1366616 (17)\ttotal: 17s\tremaining: 1.58s\n",
      "183:\ttest: -127.2527036\tbest: -127.1366616 (17)\ttotal: 17.1s\tremaining: 1.49s\n",
      "184:\ttest: -127.2527036\tbest: -127.1366616 (17)\ttotal: 17.2s\tremaining: 1.4s\n",
      "185:\ttest: -127.2527036\tbest: -127.1366616 (17)\ttotal: 17.3s\tremaining: 1.3s\n",
      "186:\ttest: -127.2527036\tbest: -127.1366616 (17)\ttotal: 17.4s\tremaining: 1.21s\n",
      "187:\ttest: -127.2527036\tbest: -127.1366616 (17)\ttotal: 17.5s\tremaining: 1.12s\n",
      "188:\ttest: -127.2527036\tbest: -127.1366616 (17)\ttotal: 17.6s\tremaining: 1.02s\n",
      "189:\ttest: -127.2527036\tbest: -127.1366616 (17)\ttotal: 17.7s\tremaining: 929ms\n",
      "190:\ttest: -127.2527036\tbest: -127.1366616 (17)\ttotal: 17.8s\tremaining: 837ms\n",
      "191:\ttest: -127.2527036\tbest: -127.1366616 (17)\ttotal: 17.8s\tremaining: 744ms\n",
      "192:\ttest: -127.2527036\tbest: -127.1366616 (17)\ttotal: 18s\tremaining: 651ms\n",
      "193:\ttest: -127.2527036\tbest: -127.1366616 (17)\ttotal: 18.1s\tremaining: 558ms\n",
      "194:\ttest: -127.2527036\tbest: -127.1366616 (17)\ttotal: 18.1s\tremaining: 465ms\n",
      "195:\ttest: -127.2527036\tbest: -127.1366616 (17)\ttotal: 18.2s\tremaining: 372ms\n",
      "196:\ttest: -127.2527036\tbest: -127.1366616 (17)\ttotal: 18.3s\tremaining: 279ms\n",
      "197:\ttest: -127.2527036\tbest: -127.1366616 (17)\ttotal: 18.4s\tremaining: 186ms\n",
      "198:\ttest: -127.2527036\tbest: -127.1366616 (17)\ttotal: 18.5s\tremaining: 93.1ms\n",
      "199:\ttest: -127.2527036\tbest: -127.1366616 (17)\ttotal: 18.6s\tremaining: 0us\n",
      "\n",
      "bestTest = -127.1366616\n",
      "bestIteration = 17\n",
      "\n",
      "Shrink model to first 18 iterations.\n"
     ]
    }
   ],
   "source": [
    "# YetiRankはpairwiseでのランク学習の1つ\n",
    "param = {'loss_function':'YetiRank', 'learning_rate': .05, 'iterations': 200,\n",
    "         'depth': 4, 'use_best_model':True}\n",
    "model = CatBoost(param)\n",
    "model.fit(train_pool, eval_set=test_pool)\n",
    "\n",
    "with open(model_path, mode='wb') as f:\n",
    "    pickle.dump(model, f)"
   ]
  },
  {
   "cell_type": "code",
   "execution_count": 191,
   "metadata": {},
   "outputs": [],
   "source": [
    "tmp_data = test_data[30:40]\n",
    "tmp_label = test_label[30:40]\n",
    "pred_score = model.predict(tmp_data)"
   ]
  },
  {
   "cell_type": "code",
   "execution_count": 192,
   "metadata": {},
   "outputs": [
    {
     "data": {
      "text/plain": [
       "array([ 0.19275821,  0.07083804,  0.03648129,  0.12377431,  0.08601046,\n",
       "       -0.15874981, -0.15874981,  0.03407701, -0.11891738, -0.05759438])"
      ]
     },
     "execution_count": 192,
     "metadata": {},
     "output_type": "execute_result"
    }
   ],
   "source": [
    "pred_score"
   ]
  },
  {
   "cell_type": "code",
   "execution_count": 193,
   "metadata": {},
   "outputs": [
    {
     "data": {
      "text/plain": [
       "0"
      ]
     },
     "execution_count": 193,
     "metadata": {},
     "output_type": "execute_result"
    }
   ],
   "source": [
    "np.argmax(pred_score)"
   ]
  },
  {
   "cell_type": "code",
   "execution_count": 194,
   "metadata": {},
   "outputs": [
    {
     "data": {
      "text/plain": [
       "49911"
      ]
     },
     "execution_count": 194,
     "metadata": {},
     "output_type": "execute_result"
    }
   ],
   "source": [
    "np.argmax(tmp_label)"
   ]
  },
  {
   "cell_type": "code",
   "execution_count": 195,
   "metadata": {},
   "outputs": [
    {
     "data": {
      "text/plain": [
       "49910    3\n",
       "49911    4\n",
       "49912    3\n",
       "49913    3\n",
       "49914    3\n",
       "49915    0\n",
       "49916    3\n",
       "49917    2\n",
       "49918    0\n",
       "49919    1\n",
       "Name: score, dtype: int64"
      ]
     },
     "execution_count": 195,
     "metadata": {},
     "output_type": "execute_result"
    }
   ],
   "source": [
    "tmp_label"
   ]
  },
  {
   "cell_type": "code",
   "execution_count": null,
   "metadata": {},
   "outputs": [],
   "source": []
  }
 ],
 "metadata": {
  "kernelspec": {
   "display_name": "Python 3",
   "language": "python",
   "name": "python3"
  },
  "language_info": {
   "codemirror_mode": {
    "name": "ipython",
    "version": 3
   },
   "file_extension": ".py",
   "mimetype": "text/x-python",
   "name": "python",
   "nbconvert_exporter": "python",
   "pygments_lexer": "ipython3",
   "version": "3.6.2"
  }
 },
 "nbformat": 4,
 "nbformat_minor": 2
}
