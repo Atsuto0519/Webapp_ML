{
 "cells": [
  {
   "cell_type": "code",
   "execution_count": 1,
   "metadata": {},
   "outputs": [],
   "source": [
    "import pickle"
   ]
  },
  {
   "cell_type": "code",
   "execution_count": 2,
   "metadata": {},
   "outputs": [],
   "source": [
    "import pandas as pd"
   ]
  },
  {
   "cell_type": "code",
   "execution_count": 9,
   "metadata": {},
   "outputs": [],
   "source": [
    "from catboost import *"
   ]
  },
  {
   "cell_type": "code",
   "execution_count": 11,
   "metadata": {},
   "outputs": [],
   "source": [
    "train_path = \"./data/sushi3-2016/train.csv\"\n",
    "model_path = \"./model.pkl\"\n",
    "\n",
    "df = pd.read_table(train_path,sep=' ',header=None)\n",
    "df = df.rename(columns={0: 'user_id', 19: 'score'})\n",
    "\n",
    "# テストデータには，最後のuser_idの人のみを使用．\n",
    "train_df = df[0:len(df)-100]\n",
    "test_df = df[len(df)-100:len(df)]\n",
    "\n",
    "\n",
    "cat_features = list(range(12))\n",
    "test_data = test_df.drop([\"user_id\", \"score\"], axis=1)\n",
    "test_label = test_df[\"score\"]\n",
    "test_group_id = test_df[\"user_id\"]\n",
    "test_pool = Pool(data=test_data, label=test_label, group_id=test_group_id, cat_features=cat_features)"
   ]
  },
  {
   "cell_type": "code",
   "execution_count": 12,
   "metadata": {},
   "outputs": [],
   "source": [
    "model = pickle.load(open('./model.pkl', mode='rb'))"
   ]
  },
  {
   "cell_type": "code",
   "execution_count": 13,
   "metadata": {},
   "outputs": [],
   "source": [
    "pred_score = model.predict(test_data)"
   ]
  },
  {
   "cell_type": "code",
   "execution_count": 14,
   "metadata": {},
   "outputs": [
    {
     "data": {
      "text/plain": [
       "array([ 0.04536072,  0.02552378,  0.04030528, -0.02869208,  0.04030528,\n",
       "       -0.04681575, -0.04681575,  0.04030528, -0.05686972, -0.05686972,\n",
       "        0.05740003,  0.02552378,  0.01363857,  0.04030528,  0.02552378,\n",
       "       -0.04681575, -0.04681575,  0.01363857, -0.03285611, -0.02123643,\n",
       "        0.03057922,  0.05740003,  0.02552378, -0.02869208,  0.02552378,\n",
       "       -0.05468349, -0.05686972, -0.03776377, -0.04681575,  0.03360313,\n",
       "       -0.00361825,  0.02552378, -0.02869208,  0.02552378, -0.03285611,\n",
       "        0.01363857,  0.04030528,  0.01363857,  0.04030528, -0.05686972,\n",
       "        0.03057922,  0.01363857,  0.01363857, -0.04681575, -0.04681575,\n",
       "       -0.04462952, -0.02123643, -0.03461956, -0.05686972, -0.05686972,\n",
       "        0.03057922,  0.02552378,  0.0627765 ,  0.02552378,  0.04536072,\n",
       "       -0.05686972,  0.0627765 ,  0.03970305,  0.01363857, -0.05172341,\n",
       "        0.04536072,  0.02552378,  0.05740003, -0.00361825,  0.01363857,\n",
       "        0.0627765 , -0.03285611, -0.05172341,  0.00333448, -0.05686972,\n",
       "        0.04536072,  0.01363857,  0.04030528, -0.01530895,  0.0627765 ,\n",
       "       -0.04681575, -0.04681575, -0.04681575, -0.03285611, -0.04977584,\n",
       "        0.02552378,  0.05740003,  0.03057922, -0.00361825,  0.05740003,\n",
       "        0.01363857,  0.05740003, -0.03461956, -0.05686972, -0.05686972,\n",
       "        0.05740003,  0.03057922, -0.00361825,  0.0627765 ,  0.05740003,\n",
       "        0.0627765 , -0.04681575, -0.00891831, -0.05686972,  0.04336795])"
      ]
     },
     "execution_count": 14,
     "metadata": {},
     "output_type": "execute_result"
    }
   ],
   "source": [
    "pred_score"
   ]
  },
  {
   "cell_type": "code",
   "execution_count": null,
   "metadata": {},
   "outputs": [],
   "source": []
  }
 ],
 "metadata": {
  "kernelspec": {
   "display_name": "Python 3",
   "language": "python",
   "name": "python3"
  },
  "language_info": {
   "codemirror_mode": {
    "name": "ipython",
    "version": 3
   },
   "file_extension": ".py",
   "mimetype": "text/x-python",
   "name": "python",
   "nbconvert_exporter": "python",
   "pygments_lexer": "ipython3",
   "version": "3.6.2"
  }
 },
 "nbformat": 4,
 "nbformat_minor": 2
}
